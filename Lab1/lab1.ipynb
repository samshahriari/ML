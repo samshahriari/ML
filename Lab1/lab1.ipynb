{
 "cells": [
  {
   "cell_type": "code",
   "execution_count": 2,
   "id": "d67831c8805b738a",
   "metadata": {
    "ExecuteTime": {
     "end_time": "2024-01-31T10:06:02.221595Z",
     "start_time": "2024-01-31T10:06:01.871972Z"
    }
   },
   "outputs": [],
   "source": [
    "import monkdata as m\n",
    "import dtree as d\n",
    "import drawtree_qt5 as dt\n"
   ]
  },
  {
   "cell_type": "markdown",
   "id": "7be4c59e6b8766bd",
   "metadata": {},
   "source": [
    "### Assignment 1"
   ]
  },
  {
   "cell_type": "code",
   "execution_count": 3,
   "id": "345a5ee0ffc3de6a",
   "metadata": {
    "ExecuteTime": {
     "end_time": "2024-01-31T10:06:02.294800Z",
     "start_time": "2024-01-31T10:06:02.187345Z"
    }
   },
   "outputs": [
    {
     "name": "stdout",
     "output_type": "stream",
     "text": [
      "monk1:  1.0\n",
      "monk2:  0.957117428264771\n",
      "monk3:  0.9998061328047111\n"
     ]
    }
   ],
   "source": [
    "print(\"monk1: \", d.entropy(m.monk1))\n",
    "print(\"monk2: \", d.entropy(m.monk2))\n",
    "print(\"monk3: \", d.entropy(m.monk3))"
   ]
  },
  {
   "cell_type": "markdown",
   "id": "7467ba2b5775d74",
   "metadata": {},
   "source": [
    "### Assignment 3"
   ]
  },
  {
   "cell_type": "code",
   "execution_count": 4,
   "id": "ab9ce00396e42810",
   "metadata": {
    "ExecuteTime": {
     "end_time": "2024-01-31T10:06:02.394108Z",
     "start_time": "2024-01-31T10:06:02.216109Z"
    }
   },
   "outputs": [
    {
     "name": "stdout",
     "output_type": "stream",
     "text": [
      "A1 0.07527\n",
      "A2 0.00584\n",
      "A3 0.00471\n",
      "A4 0.02631\n",
      "A5 0.28703\n",
      "A6 0.00076\n"
     ]
    }
   ],
   "source": [
    "for i in range(6):\n",
    "    print(m.attributes[i], round(d.averageGain(m.monk1, m.attributes[i]), 5))"
   ]
  },
  {
   "cell_type": "code",
   "execution_count": 5,
   "id": "60dba67a35b0740c",
   "metadata": {
    "ExecuteTime": {
     "end_time": "2024-01-31T10:06:02.396633Z",
     "start_time": "2024-01-31T10:06:02.240100Z"
    }
   },
   "outputs": [
    {
     "name": "stdout",
     "output_type": "stream",
     "text": [
      "A1 0.00376\n",
      "A2 0.00246\n",
      "A3 0.00106\n",
      "A4 0.01566\n",
      "A5 0.01728\n",
      "A6 0.00625\n"
     ]
    }
   ],
   "source": [
    "for i in range(6):\n",
    "    print(m.attributes[i], round(d.averageGain(m.monk2, m.attributes[i]), 5))"
   ]
  },
  {
   "cell_type": "code",
   "execution_count": 6,
   "id": "e8ab52b96d84260a",
   "metadata": {
    "ExecuteTime": {
     "end_time": "2024-01-31T10:06:02.433490Z",
     "start_time": "2024-01-31T10:06:02.256610Z"
    }
   },
   "outputs": [
    {
     "name": "stdout",
     "output_type": "stream",
     "text": [
      "A1 0.00712\n",
      "A2 0.29374\n",
      "A3 0.00083\n",
      "A4 0.00289\n",
      "A5 0.25591\n",
      "A6 0.00708\n"
     ]
    }
   ],
   "source": [
    "for i in range(6):\n",
    "    print(m.attributes[i], round(d.averageGain(m.monk3, m.attributes[i]), 5))"
   ]
  },
  {
   "cell_type": "markdown",
   "id": "fc7ce1f6dab550fa",
   "metadata": {},
   "source": [
    "### Assignment 5"
   ]
  },
  {
   "cell_type": "code",
   "execution_count": 7,
   "id": "77a50cc2b1807bce",
   "metadata": {
    "ExecuteTime": {
     "end_time": "2024-01-31T10:06:02.435325Z",
     "start_time": "2024-01-31T10:06:02.282966Z"
    }
   },
   "outputs": [
    {
     "name": "stdout",
     "output_type": "stream",
     "text": [
      "0.0\n",
      "0.9383153522334069\n",
      "0.9480782435939054\n",
      "0.9081783472997051\n"
     ]
    }
   ],
   "source": [
    "first = d.select(m.monk1, m.attributes[4], 1)\n",
    "second = d.select(m.monk1, m.attributes[4], 2)\n",
    "third = d.select(m.monk1, m.attributes[4], 3)\n",
    "fourth = d.select(m.monk1, m.attributes[4], 4)\n",
    "\n",
    "print(d.entropy(first))\n",
    "print(d.entropy(second))\n",
    "print(d.entropy(third))\n",
    "print(d.entropy(fourth))"
   ]
  },
  {
   "cell_type": "markdown",
   "id": "14063428cac549ea",
   "metadata": {},
   "source": [
    "The split to ones has 0 entropy and is therefore pure and is a leaf node. "
   ]
  },
  {
   "cell_type": "code",
   "execution_count": 8,
   "id": "8653edc63ad4ea0b",
   "metadata": {
    "ExecuteTime": {
     "end_time": "2024-01-31T10:06:02.462126Z",
     "start_time": "2024-01-31T10:06:02.304388Z"
    }
   },
   "outputs": [
    {
     "name": "stdout",
     "output_type": "stream",
     "text": [
      "A1 0.04022\n",
      "A2 0.01506\n",
      "A3 0.03727\n",
      "A4 0.04889\n",
      "A6 0.02581\n"
     ]
    }
   ],
   "source": [
    "for i in range(6):\n",
    "    if i == 4: continue\n",
    "    print(m.attributes[i], round(d.averageGain(second, m.attributes[i]), 5))"
   ]
  },
  {
   "cell_type": "code",
   "execution_count": 9,
   "id": "57c67a61d726a367",
   "metadata": {
    "ExecuteTime": {
     "end_time": "2024-01-31T10:06:02.621841Z",
     "start_time": "2024-01-31T10:06:02.320825Z"
    }
   },
   "outputs": [
    {
     "name": "stdout",
     "output_type": "stream",
     "text": [
      "A1 0.03306\n",
      "A2 0.0022\n",
      "A3 0.01798\n",
      "A4 0.01912\n",
      "A6 0.04511\n"
     ]
    }
   ],
   "source": [
    "for i in range(6):\n",
    "    if i == 4: continue\n",
    "    print(m.attributes[i], round(d.averageGain(third, m.attributes[i]), 5))"
   ]
  },
  {
   "cell_type": "code",
   "execution_count": 10,
   "id": "4f6fbac8e2e4e58f",
   "metadata": {
    "ExecuteTime": {
     "end_time": "2024-01-31T10:06:02.623913Z",
     "start_time": "2024-01-31T10:06:02.333579Z"
    }
   },
   "outputs": [
    {
     "name": "stdout",
     "output_type": "stream",
     "text": [
      "A1 0.20629\n",
      "A2 0.0339\n",
      "A3 0.02591\n",
      "A4 0.07593\n",
      "A6 0.00332\n"
     ]
    }
   ],
   "source": [
    "for i in range(6):\n",
    "    if i == 4: continue\n",
    "    print(m.attributes[i], round(d.averageGain(fourth, m.attributes[i]), 5))"
   ]
  },
  {
   "cell_type": "markdown",
   "id": "536158cd4b44f51e",
   "metadata": {},
   "source": [
    "Split on \n",
    "- No split needed\n",
    "- A4\n",
    "- A6\n",
    "- A1"
   ]
  },
  {
   "cell_type": "code",
   "execution_count": 11,
   "id": "839f1858519e60db",
   "metadata": {
    "ExecuteTime": {
     "end_time": "2024-01-31T10:06:02.626394Z",
     "start_time": "2024-01-31T10:06:02.357025Z"
    }
   },
   "outputs": [
    {
     "name": "stdout",
     "output_type": "stream",
     "text": [
      "True\n"
     ]
    }
   ],
   "source": [
    "print(d.mostCommon(first))\n"
   ]
  },
  {
   "cell_type": "code",
   "outputs": [
    {
     "name": "stdout",
     "output_type": "stream",
     "text": [
      "1 False\n",
      "2 False\n",
      "3 False\n"
     ]
    }
   ],
   "source": [
    "# new for A4 split\n",
    "for i in m.attributes[3].values:\n",
    "    new = d.select(second, m.attributes[3], i)\n",
    "    print(i, d.mostCommon(new))"
   ],
   "metadata": {
    "collapsed": false,
    "ExecuteTime": {
     "end_time": "2024-01-31T10:06:02.705001Z",
     "start_time": "2024-01-31T10:06:02.426356Z"
    }
   },
   "id": "41a291381a3aa3a3",
   "execution_count": 12
  },
  {
   "cell_type": "code",
   "outputs": [
    {
     "name": "stdout",
     "output_type": "stream",
     "text": [
      "1 False\n",
      "2 False\n"
     ]
    }
   ],
   "source": [
    "# new for A6 split\n",
    "for i in m.attributes[5].values:\n",
    "    new = d.select(third, m.attributes[5], i)\n",
    "    print(i, d.mostCommon(new))"
   ],
   "metadata": {
    "collapsed": false,
    "ExecuteTime": {
     "end_time": "2024-01-31T10:06:02.854205Z",
     "start_time": "2024-01-31T10:06:02.692612Z"
    }
   },
   "id": "9fe5209b64fef045",
   "execution_count": 13
  },
  {
   "cell_type": "code",
   "outputs": [
    {
     "name": "stdout",
     "output_type": "stream",
     "text": [
      "1 False\n",
      "2 False\n",
      "3 True\n"
     ]
    }
   ],
   "source": [
    "# new for A1 split\n",
    "for i in m.attributes[0].values:\n",
    "    new = d.select(fourth, m.attributes[0], i)\n",
    "    print(i, d.mostCommon(new))"
   ],
   "metadata": {
    "collapsed": false,
    "ExecuteTime": {
     "end_time": "2024-01-31T10:06:02.911419Z",
     "start_time": "2024-01-31T10:06:02.864520Z"
    }
   },
   "id": "50d6ddd0d68c562",
   "execution_count": 14
  },
  {
   "cell_type": "code",
   "outputs": [
    {
     "name": "stdout",
     "output_type": "stream",
     "text": [
      "-------\n",
      "0.0\n",
      "0.0\n",
      "0.0\n",
      "-------\n",
      "0.1713\n",
      "0.30787\n",
      "0.05556\n"
     ]
    }
   ],
   "source": [
    "t1 = d.buildTree(m.monk1, m.attributes)\n",
    "t2 = d.buildTree(m.monk2, m.attributes)\n",
    "t3 = d.buildTree(m.monk3, m.attributes)\n",
    "\n",
    "print(\"-------\")\n",
    "print(round(1-d.check(t1, m.monk1), 5))\n",
    "print(round(1-d.check(t2, m.monk2), 5))\n",
    "print(round(1-d.check(t3, m.monk3), 5))\n",
    "print(\"-------\")\n",
    "print(round(1-d.check(t1, m.monk1test), 5))\n",
    "print(round(1-d.check(t2, m.monk2test), 5))\n",
    "print(round(1-d.check(t3, m.monk3test), 5))"
   ],
   "metadata": {
    "collapsed": false,
    "ExecuteTime": {
     "end_time": "2024-01-31T10:06:03.060902Z",
     "start_time": "2024-01-31T10:06:02.914643Z"
    }
   },
   "id": "a299310ce412fea4",
   "execution_count": 15
  },
  {
   "cell_type": "markdown",
   "source": [
    "I was wrong about my prediction that M1 was the hardest, instead it seems that M2 was the hardest. A perfect tree was made for the training set. This means that the trees were probably over fit to some extent."
   ],
   "metadata": {
    "collapsed": false
   },
   "id": "168fa2c093726259"
  },
  {
   "cell_type": "markdown",
   "source": [
    "### Assignment 7"
   ],
   "metadata": {
    "collapsed": false
   },
   "id": "e41fd1f1e4701d21"
  },
  {
   "cell_type": "code",
   "outputs": [],
   "source": [
    "import random\n",
    "def partition(data, fraction):\n",
    "    ldata = list(data)\n",
    "    random.shuffle(ldata)\n",
    "    breakPoint = int(len(ldata) * fraction)\n",
    "    return ldata[:breakPoint], ldata[breakPoint:]"
   ],
   "metadata": {
    "collapsed": false,
    "ExecuteTime": {
     "end_time": "2024-01-31T10:06:03.067732Z",
     "start_time": "2024-01-31T10:06:03.002282Z"
    }
   },
   "id": "904bdbee85ab710",
   "execution_count": 16
  },
  {
   "cell_type": "code",
   "outputs": [],
   "source": [],
   "metadata": {
    "collapsed": false,
    "ExecuteTime": {
     "end_time": "2024-01-31T10:06:03.191818Z",
     "start_time": "2024-01-31T10:06:03.080115Z"
    }
   },
   "id": "c9e0316e301accdd",
   "execution_count": 17
  },
  {
   "cell_type": "code",
   "outputs": [],
   "source": [],
   "metadata": {
    "collapsed": false,
    "ExecuteTime": {
     "end_time": "2024-01-31T10:06:03.195754Z",
     "start_time": "2024-01-31T10:06:03.104346Z"
    }
   },
   "id": "2165723decbb4bc5",
   "execution_count": 17
  }
 ],
 "metadata": {
  "kernelspec": {
   "display_name": "Python 3 (ipykernel)",
   "language": "python",
   "name": "python3"
  },
  "language_info": {
   "codemirror_mode": {
    "name": "ipython",
    "version": 2
   },
   "file_extension": ".py",
   "mimetype": "text/x-python",
   "name": "python",
   "nbconvert_exporter": "python",
   "pygments_lexer": "ipython2",
   "version": "2.7.6"
  }
 },
 "nbformat": 4,
 "nbformat_minor": 5
}
